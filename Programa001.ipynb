{
  "nbformat": 4,
  "nbformat_minor": 0,
  "metadata": {
    "colab": {
      "provenance": [],
      "authorship_tag": "ABX9TyMIiu3ZLxdxu9YpzlAf2/Gl",
      "include_colab_link": true
    },
    "kernelspec": {
      "name": "python3",
      "display_name": "Python 3"
    },
    "language_info": {
      "name": "python"
    }
  },
  "cells": [
    {
      "cell_type": "markdown",
      "metadata": {
        "id": "view-in-github",
        "colab_type": "text"
      },
      "source": [
        "<a href=\"https://colab.research.google.com/github/Guhabreu/MEC-1/blob/main/Programa001.ipynb\" target=\"_parent\"><img src=\"https://colab.research.google.com/assets/colab-badge.svg\" alt=\"Open In Colab\"/></a>"
      ]
    },
    {
      "cell_type": "code",
      "source": [
        "#Importancia dos tipos de variaveis\n",
        "a = 9.0\n",
        "print(type(a))\n",
        "b = 5\n",
        "print(type(b))\n",
        "soma = a + b\n",
        "print(type(soma))\n",
        "print(soma)\n"
      ],
      "metadata": {
        "colab": {
          "base_uri": "https://localhost:8080/"
        },
        "id": "ojG50ZxlE2bb",
        "outputId": "22f07e8f-614f-445f-a6c9-d04d7b40bfb2"
      },
      "execution_count": 11,
      "outputs": [
        {
          "output_type": "stream",
          "name": "stdout",
          "text": [
            "<class 'float'>\n",
            "<class 'int'>\n",
            "<class 'float'>\n",
            "14.0\n"
          ]
        }
      ]
    },
    {
      "cell_type": "code",
      "source": [
        "num = float(input(\"Digite um numero: \"))\n",
        "print(type(num))\n",
        "quociente = num // 2\n",
        "print(quociente)\n"
      ],
      "metadata": {
        "colab": {
          "base_uri": "https://localhost:8080/"
        },
        "id": "iYDEf79BJSKq",
        "outputId": "3a93dada-76b3-4fc3-d435-b1f8e1dec1f3"
      },
      "execution_count": 16,
      "outputs": [
        {
          "output_type": "stream",
          "name": "stdout",
          "text": [
            "Digite um numero: 9\n",
            "<class 'float'>\n",
            "4.0\n"
          ]
        }
      ]
    },
    {
      "cell_type": "code",
      "source": [
        "valor1 = float(input(\"Digite o primeiro valor: \"))\n",
        "valor2 = float(input(\"Digite o segundo valor: \"))\n",
        "# Calcula a média aritmética\n",
        "media = (valor1 + valor2) / 2\n",
        "# Exibe o resultado\n",
        "print(\"A média é:\", media)\n"
      ],
      "metadata": {
        "colab": {
          "base_uri": "https://localhost:8080/"
        },
        "id": "VVw9dIJzLa5Z",
        "outputId": "37d3927d-fba1-4225-b14e-82b2c565e821"
      },
      "execution_count": 19,
      "outputs": [
        {
          "output_type": "stream",
          "name": "stdout",
          "text": [
            "Digite o primeiro valor: 60\n",
            "Digite o segundo valor: 30\n",
            "A média é: 45.0\n"
          ]
        }
      ]
    },
    {
      "cell_type": "code",
      "source": [
        "base = float(input(\"Digite o valor da base do triângulo: \"))\n",
        "altura = float(input(\"Digite o valor da altura do triângulo: \"))\n",
        "# Calcular a área do triângulo\n",
        "area = (base * altura) / 2\n",
        "# Exibir a área calculada\n",
        "print(f\"A área do triângulo é {area}.\")\n",
        "# Fim do programa\n"
      ],
      "metadata": {
        "colab": {
          "base_uri": "https://localhost:8080/"
        },
        "id": "GGkFeJbtMBmu",
        "outputId": "01e6f079-4be6-4289-bb4d-e507e92e48d5"
      },
      "execution_count": 21,
      "outputs": [
        {
          "output_type": "stream",
          "name": "stdout",
          "text": [
            "Digite o valor da base do triângulo: 10\n",
            "Digite o valor da altura do triângulo: 5\n",
            "A área do triângulo é 25.0.\n"
          ]
        }
      ]
    }
  ]
}